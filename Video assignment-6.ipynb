{
 "cells": [
  {
   "cell_type": "code",
   "execution_count": 1,
   "metadata": {},
   "outputs": [],
   "source": [
    "import pandas as pd\n",
    "import numpy as np\n",
    "import math\n",
    "import matplotlib.pyplot as plt\n",
    "from sklearn.metrics import f1_score,accuracy_score\n",
    "from sklearn.decomposition import PCA"
   ]
  },
  {
   "cell_type": "code",
   "execution_count": 2,
   "metadata": {},
   "outputs": [],
   "source": [
    "df_train = pd.read_csv('train.csv')\n",
    "df_test = pd.read_csv('test.csv')"
   ]
  },
  {
   "cell_type": "code",
   "execution_count": 3,
   "metadata": {},
   "outputs": [
    {
     "data": {
      "text/html": [
       "<div>\n",
       "<style scoped>\n",
       "    .dataframe tbody tr th:only-of-type {\n",
       "        vertical-align: middle;\n",
       "    }\n",
       "\n",
       "    .dataframe tbody tr th {\n",
       "        vertical-align: top;\n",
       "    }\n",
       "\n",
       "    .dataframe thead th {\n",
       "        text-align: right;\n",
       "    }\n",
       "</style>\n",
       "<table border=\"1\" class=\"dataframe\">\n",
       "  <thead>\n",
       "    <tr style=\"text-align: right;\">\n",
       "      <th></th>\n",
       "      <th>tBodyAcc-mean()-X</th>\n",
       "      <th>tBodyAcc-mean()-Y</th>\n",
       "      <th>tBodyAcc-mean()-Z</th>\n",
       "      <th>tBodyAcc-std()-X</th>\n",
       "      <th>tBodyAcc-std()-Y</th>\n",
       "      <th>tBodyAcc-std()-Z</th>\n",
       "      <th>tBodyAcc-mad()-X</th>\n",
       "      <th>tBodyAcc-mad()-Y</th>\n",
       "      <th>tBodyAcc-mad()-Z</th>\n",
       "      <th>tBodyAcc-max()-X</th>\n",
       "      <th>...</th>\n",
       "      <th>fBodyBodyGyroJerkMag-kurtosis()</th>\n",
       "      <th>angle(tBodyAccMean,gravity)</th>\n",
       "      <th>angle(tBodyAccJerkMean),gravityMean)</th>\n",
       "      <th>angle(tBodyGyroMean,gravityMean)</th>\n",
       "      <th>angle(tBodyGyroJerkMean,gravityMean)</th>\n",
       "      <th>angle(X,gravityMean)</th>\n",
       "      <th>angle(Y,gravityMean)</th>\n",
       "      <th>angle(Z,gravityMean)</th>\n",
       "      <th>subject</th>\n",
       "      <th>Activity</th>\n",
       "    </tr>\n",
       "  </thead>\n",
       "  <tbody>\n",
       "    <tr>\n",
       "      <th>0</th>\n",
       "      <td>0.288585</td>\n",
       "      <td>-0.020294</td>\n",
       "      <td>-0.132905</td>\n",
       "      <td>-0.995279</td>\n",
       "      <td>-0.983111</td>\n",
       "      <td>-0.913526</td>\n",
       "      <td>-0.995112</td>\n",
       "      <td>-0.983185</td>\n",
       "      <td>-0.923527</td>\n",
       "      <td>-0.934724</td>\n",
       "      <td>...</td>\n",
       "      <td>-0.710304</td>\n",
       "      <td>-0.112754</td>\n",
       "      <td>0.030400</td>\n",
       "      <td>-0.464761</td>\n",
       "      <td>-0.018446</td>\n",
       "      <td>-0.841247</td>\n",
       "      <td>0.179941</td>\n",
       "      <td>-0.058627</td>\n",
       "      <td>1</td>\n",
       "      <td>STANDING</td>\n",
       "    </tr>\n",
       "    <tr>\n",
       "      <th>1</th>\n",
       "      <td>0.278419</td>\n",
       "      <td>-0.016411</td>\n",
       "      <td>-0.123520</td>\n",
       "      <td>-0.998245</td>\n",
       "      <td>-0.975300</td>\n",
       "      <td>-0.960322</td>\n",
       "      <td>-0.998807</td>\n",
       "      <td>-0.974914</td>\n",
       "      <td>-0.957686</td>\n",
       "      <td>-0.943068</td>\n",
       "      <td>...</td>\n",
       "      <td>-0.861499</td>\n",
       "      <td>0.053477</td>\n",
       "      <td>-0.007435</td>\n",
       "      <td>-0.732626</td>\n",
       "      <td>0.703511</td>\n",
       "      <td>-0.844788</td>\n",
       "      <td>0.180289</td>\n",
       "      <td>-0.054317</td>\n",
       "      <td>1</td>\n",
       "      <td>STANDING</td>\n",
       "    </tr>\n",
       "    <tr>\n",
       "      <th>2</th>\n",
       "      <td>0.279653</td>\n",
       "      <td>-0.019467</td>\n",
       "      <td>-0.113462</td>\n",
       "      <td>-0.995380</td>\n",
       "      <td>-0.967187</td>\n",
       "      <td>-0.978944</td>\n",
       "      <td>-0.996520</td>\n",
       "      <td>-0.963668</td>\n",
       "      <td>-0.977469</td>\n",
       "      <td>-0.938692</td>\n",
       "      <td>...</td>\n",
       "      <td>-0.760104</td>\n",
       "      <td>-0.118559</td>\n",
       "      <td>0.177899</td>\n",
       "      <td>0.100699</td>\n",
       "      <td>0.808529</td>\n",
       "      <td>-0.848933</td>\n",
       "      <td>0.180637</td>\n",
       "      <td>-0.049118</td>\n",
       "      <td>1</td>\n",
       "      <td>STANDING</td>\n",
       "    </tr>\n",
       "    <tr>\n",
       "      <th>3</th>\n",
       "      <td>0.279174</td>\n",
       "      <td>-0.026201</td>\n",
       "      <td>-0.123283</td>\n",
       "      <td>-0.996091</td>\n",
       "      <td>-0.983403</td>\n",
       "      <td>-0.990675</td>\n",
       "      <td>-0.997099</td>\n",
       "      <td>-0.982750</td>\n",
       "      <td>-0.989302</td>\n",
       "      <td>-0.938692</td>\n",
       "      <td>...</td>\n",
       "      <td>-0.482845</td>\n",
       "      <td>-0.036788</td>\n",
       "      <td>-0.012892</td>\n",
       "      <td>0.640011</td>\n",
       "      <td>-0.485366</td>\n",
       "      <td>-0.848649</td>\n",
       "      <td>0.181935</td>\n",
       "      <td>-0.047663</td>\n",
       "      <td>1</td>\n",
       "      <td>STANDING</td>\n",
       "    </tr>\n",
       "    <tr>\n",
       "      <th>4</th>\n",
       "      <td>0.276629</td>\n",
       "      <td>-0.016570</td>\n",
       "      <td>-0.115362</td>\n",
       "      <td>-0.998139</td>\n",
       "      <td>-0.980817</td>\n",
       "      <td>-0.990482</td>\n",
       "      <td>-0.998321</td>\n",
       "      <td>-0.979672</td>\n",
       "      <td>-0.990441</td>\n",
       "      <td>-0.942469</td>\n",
       "      <td>...</td>\n",
       "      <td>-0.699205</td>\n",
       "      <td>0.123320</td>\n",
       "      <td>0.122542</td>\n",
       "      <td>0.693578</td>\n",
       "      <td>-0.615971</td>\n",
       "      <td>-0.847865</td>\n",
       "      <td>0.185151</td>\n",
       "      <td>-0.043892</td>\n",
       "      <td>1</td>\n",
       "      <td>STANDING</td>\n",
       "    </tr>\n",
       "  </tbody>\n",
       "</table>\n",
       "<p>5 rows × 563 columns</p>\n",
       "</div>"
      ],
      "text/plain": [
       "   tBodyAcc-mean()-X  tBodyAcc-mean()-Y  tBodyAcc-mean()-Z  tBodyAcc-std()-X  \\\n",
       "0           0.288585          -0.020294          -0.132905         -0.995279   \n",
       "1           0.278419          -0.016411          -0.123520         -0.998245   \n",
       "2           0.279653          -0.019467          -0.113462         -0.995380   \n",
       "3           0.279174          -0.026201          -0.123283         -0.996091   \n",
       "4           0.276629          -0.016570          -0.115362         -0.998139   \n",
       "\n",
       "   tBodyAcc-std()-Y  tBodyAcc-std()-Z  tBodyAcc-mad()-X  tBodyAcc-mad()-Y  \\\n",
       "0         -0.983111         -0.913526         -0.995112         -0.983185   \n",
       "1         -0.975300         -0.960322         -0.998807         -0.974914   \n",
       "2         -0.967187         -0.978944         -0.996520         -0.963668   \n",
       "3         -0.983403         -0.990675         -0.997099         -0.982750   \n",
       "4         -0.980817         -0.990482         -0.998321         -0.979672   \n",
       "\n",
       "   tBodyAcc-mad()-Z  tBodyAcc-max()-X  ...  fBodyBodyGyroJerkMag-kurtosis()  \\\n",
       "0         -0.923527         -0.934724  ...                        -0.710304   \n",
       "1         -0.957686         -0.943068  ...                        -0.861499   \n",
       "2         -0.977469         -0.938692  ...                        -0.760104   \n",
       "3         -0.989302         -0.938692  ...                        -0.482845   \n",
       "4         -0.990441         -0.942469  ...                        -0.699205   \n",
       "\n",
       "   angle(tBodyAccMean,gravity)  angle(tBodyAccJerkMean),gravityMean)  \\\n",
       "0                    -0.112754                              0.030400   \n",
       "1                     0.053477                             -0.007435   \n",
       "2                    -0.118559                              0.177899   \n",
       "3                    -0.036788                             -0.012892   \n",
       "4                     0.123320                              0.122542   \n",
       "\n",
       "   angle(tBodyGyroMean,gravityMean)  angle(tBodyGyroJerkMean,gravityMean)  \\\n",
       "0                         -0.464761                             -0.018446   \n",
       "1                         -0.732626                              0.703511   \n",
       "2                          0.100699                              0.808529   \n",
       "3                          0.640011                             -0.485366   \n",
       "4                          0.693578                             -0.615971   \n",
       "\n",
       "   angle(X,gravityMean)  angle(Y,gravityMean)  angle(Z,gravityMean)  subject  \\\n",
       "0             -0.841247              0.179941             -0.058627        1   \n",
       "1             -0.844788              0.180289             -0.054317        1   \n",
       "2             -0.848933              0.180637             -0.049118        1   \n",
       "3             -0.848649              0.181935             -0.047663        1   \n",
       "4             -0.847865              0.185151             -0.043892        1   \n",
       "\n",
       "   Activity  \n",
       "0  STANDING  \n",
       "1  STANDING  \n",
       "2  STANDING  \n",
       "3  STANDING  \n",
       "4  STANDING  \n",
       "\n",
       "[5 rows x 563 columns]"
      ]
     },
     "execution_count": 3,
     "metadata": {},
     "output_type": "execute_result"
    }
   ],
   "source": [
    "df_train.head(5)"
   ]
  },
  {
   "cell_type": "code",
   "execution_count": 4,
   "metadata": {},
   "outputs": [
    {
     "name": "stdout",
     "output_type": "stream",
     "text": [
      "0.0\n"
     ]
    }
   ],
   "source": [
    "data_arr = df_train.iloc[:,0:561].values\n",
    "cov_data = np.cov(data_arr,rowvar=False)\n",
    "print(np.linalg.det(cov_data))"
   ]
  },
  {
   "cell_type": "code",
   "execution_count": 5,
   "metadata": {},
   "outputs": [],
   "source": [
    "pca=PCA(n_components=100)\n",
    "cov_pca=pca.fit(df_train.iloc[:,0:561].values)"
   ]
  },
  {
   "cell_type": "code",
   "execution_count": 6,
   "metadata": {},
   "outputs": [],
   "source": [
    "data_train_pca=cov_pca.transform(df_train.iloc[:,0:561].values)\n",
    "df_train_red=pd.DataFrame(data_train_pca)"
   ]
  },
  {
   "cell_type": "code",
   "execution_count": 7,
   "metadata": {},
   "outputs": [],
   "source": [
    "df_train_red['Subject']=df_train['subject']\n",
    "df_train_red['Activity']=df_train['Activity']"
   ]
  },
  {
   "cell_type": "code",
   "execution_count": 8,
   "metadata": {},
   "outputs": [
    {
     "name": "stdout",
     "output_type": "stream",
     "text": [
      "(1374, 102)\n",
      "(1286, 102)\n",
      "(1407, 102)\n",
      "(1226, 102)\n",
      "(986, 102)\n",
      "(1073, 102)\n"
     ]
    }
   ],
   "source": [
    "df_train_red_STAND=df_train_red[df_train_red['Activity']=='STANDING']\n",
    "df_train_red_SIT=df_train_red[df_train_red['Activity']=='SITTING']\n",
    "df_train_red_LAY=df_train_red[df_train_red['Activity']=='LAYING']\n",
    "df_train_red_WALK=df_train_red[df_train_red['Activity']=='WALKING']\n",
    "df_train_red_WALK_d=df_train_red[df_train_red['Activity']=='WALKING_DOWNSTAIRS']\n",
    "df_train_red_WALK_u=df_train_red[df_train_red['Activity']=='WALKING_UPSTAIRS']\n",
    "\n",
    "print(df_train_red_STAND.shape)\n",
    "print(df_train_red_SIT.shape)\n",
    "print(df_train_red_LAY.shape)\n",
    "print(df_train_red_WALK.shape)\n",
    "print(df_train_red_WALK_d.shape)\n",
    "print(df_train_red_WALK_u.shape)"
   ]
  },
  {
   "cell_type": "code",
   "execution_count": 9,
   "metadata": {},
   "outputs": [],
   "source": [
    "from hmmlearn import hmm"
   ]
  },
  {
   "cell_type": "code",
   "execution_count": 10,
   "metadata": {},
   "outputs": [],
   "source": [
    "df_test.dropna(inplace=True)"
   ]
  },
  {
   "cell_type": "code",
   "execution_count": 11,
   "metadata": {},
   "outputs": [],
   "source": [
    "data_test_red=cov_pca.transform(df_test.iloc[:,0:561].values)\n",
    "df_test_red=pd.DataFrame(data_test_red)"
   ]
  },
  {
   "cell_type": "code",
   "execution_count": 12,
   "metadata": {},
   "outputs": [
    {
     "data": {
      "text/html": [
       "<div>\n",
       "<style scoped>\n",
       "    .dataframe tbody tr th:only-of-type {\n",
       "        vertical-align: middle;\n",
       "    }\n",
       "\n",
       "    .dataframe tbody tr th {\n",
       "        vertical-align: top;\n",
       "    }\n",
       "\n",
       "    .dataframe thead th {\n",
       "        text-align: right;\n",
       "    }\n",
       "</style>\n",
       "<table border=\"1\" class=\"dataframe\">\n",
       "  <thead>\n",
       "    <tr style=\"text-align: right;\">\n",
       "      <th></th>\n",
       "      <th>0</th>\n",
       "      <th>1</th>\n",
       "      <th>2</th>\n",
       "      <th>3</th>\n",
       "      <th>4</th>\n",
       "      <th>5</th>\n",
       "      <th>6</th>\n",
       "      <th>7</th>\n",
       "      <th>8</th>\n",
       "      <th>9</th>\n",
       "      <th>...</th>\n",
       "      <th>92</th>\n",
       "      <th>93</th>\n",
       "      <th>94</th>\n",
       "      <th>95</th>\n",
       "      <th>96</th>\n",
       "      <th>97</th>\n",
       "      <th>98</th>\n",
       "      <th>99</th>\n",
       "      <th>Subject</th>\n",
       "      <th>Activity</th>\n",
       "    </tr>\n",
       "  </thead>\n",
       "  <tbody>\n",
       "    <tr>\n",
       "      <th>0</th>\n",
       "      <td>-2.686743</td>\n",
       "      <td>-1.216821</td>\n",
       "      <td>-0.722075</td>\n",
       "      <td>-0.117271</td>\n",
       "      <td>-0.546360</td>\n",
       "      <td>0.442701</td>\n",
       "      <td>-0.387679</td>\n",
       "      <td>0.327529</td>\n",
       "      <td>0.117682</td>\n",
       "      <td>-1.593977</td>\n",
       "      <td>...</td>\n",
       "      <td>-0.072056</td>\n",
       "      <td>-0.268620</td>\n",
       "      <td>-0.053895</td>\n",
       "      <td>-0.048745</td>\n",
       "      <td>-0.039302</td>\n",
       "      <td>0.315779</td>\n",
       "      <td>0.175283</td>\n",
       "      <td>-0.130846</td>\n",
       "      <td>2</td>\n",
       "      <td>STANDING</td>\n",
       "    </tr>\n",
       "    <tr>\n",
       "      <th>1</th>\n",
       "      <td>-4.331255</td>\n",
       "      <td>-0.766327</td>\n",
       "      <td>-1.128404</td>\n",
       "      <td>-0.152942</td>\n",
       "      <td>-0.505817</td>\n",
       "      <td>0.485306</td>\n",
       "      <td>-0.423214</td>\n",
       "      <td>0.805947</td>\n",
       "      <td>0.591644</td>\n",
       "      <td>-0.986363</td>\n",
       "      <td>...</td>\n",
       "      <td>-0.077166</td>\n",
       "      <td>0.012863</td>\n",
       "      <td>0.031363</td>\n",
       "      <td>-0.117702</td>\n",
       "      <td>0.069089</td>\n",
       "      <td>0.080349</td>\n",
       "      <td>0.131867</td>\n",
       "      <td>-0.269273</td>\n",
       "      <td>2</td>\n",
       "      <td>STANDING</td>\n",
       "    </tr>\n",
       "    <tr>\n",
       "      <th>2</th>\n",
       "      <td>-4.985360</td>\n",
       "      <td>0.371301</td>\n",
       "      <td>-1.656858</td>\n",
       "      <td>-0.235971</td>\n",
       "      <td>-0.102938</td>\n",
       "      <td>-0.113283</td>\n",
       "      <td>-0.143993</td>\n",
       "      <td>0.279862</td>\n",
       "      <td>0.330125</td>\n",
       "      <td>-0.163722</td>\n",
       "      <td>...</td>\n",
       "      <td>-0.157583</td>\n",
       "      <td>-0.222906</td>\n",
       "      <td>-0.130571</td>\n",
       "      <td>-0.098860</td>\n",
       "      <td>0.117988</td>\n",
       "      <td>0.104057</td>\n",
       "      <td>-0.048039</td>\n",
       "      <td>-0.024905</td>\n",
       "      <td>2</td>\n",
       "      <td>STANDING</td>\n",
       "    </tr>\n",
       "    <tr>\n",
       "      <th>3</th>\n",
       "      <td>-5.099876</td>\n",
       "      <td>0.243743</td>\n",
       "      <td>-1.802703</td>\n",
       "      <td>0.263715</td>\n",
       "      <td>-0.050454</td>\n",
       "      <td>-0.794957</td>\n",
       "      <td>0.083771</td>\n",
       "      <td>0.650500</td>\n",
       "      <td>0.270365</td>\n",
       "      <td>0.321617</td>\n",
       "      <td>...</td>\n",
       "      <td>-0.035214</td>\n",
       "      <td>-0.184946</td>\n",
       "      <td>-0.062259</td>\n",
       "      <td>0.051432</td>\n",
       "      <td>0.116112</td>\n",
       "      <td>0.125382</td>\n",
       "      <td>-0.053774</td>\n",
       "      <td>0.100407</td>\n",
       "      <td>2</td>\n",
       "      <td>STANDING</td>\n",
       "    </tr>\n",
       "    <tr>\n",
       "      <th>4</th>\n",
       "      <td>-5.023000</td>\n",
       "      <td>-0.518739</td>\n",
       "      <td>-1.871078</td>\n",
       "      <td>0.106466</td>\n",
       "      <td>0.153655</td>\n",
       "      <td>-0.947262</td>\n",
       "      <td>0.668394</td>\n",
       "      <td>0.792005</td>\n",
       "      <td>0.932680</td>\n",
       "      <td>0.593944</td>\n",
       "      <td>...</td>\n",
       "      <td>-0.042797</td>\n",
       "      <td>0.073619</td>\n",
       "      <td>-0.073277</td>\n",
       "      <td>-0.097418</td>\n",
       "      <td>-0.050722</td>\n",
       "      <td>-0.042751</td>\n",
       "      <td>-0.067358</td>\n",
       "      <td>-0.073441</td>\n",
       "      <td>2</td>\n",
       "      <td>STANDING</td>\n",
       "    </tr>\n",
       "  </tbody>\n",
       "</table>\n",
       "<p>5 rows × 102 columns</p>\n",
       "</div>"
      ],
      "text/plain": [
       "          0         1         2         3         4         5         6  \\\n",
       "0 -2.686743 -1.216821 -0.722075 -0.117271 -0.546360  0.442701 -0.387679   \n",
       "1 -4.331255 -0.766327 -1.128404 -0.152942 -0.505817  0.485306 -0.423214   \n",
       "2 -4.985360  0.371301 -1.656858 -0.235971 -0.102938 -0.113283 -0.143993   \n",
       "3 -5.099876  0.243743 -1.802703  0.263715 -0.050454 -0.794957  0.083771   \n",
       "4 -5.023000 -0.518739 -1.871078  0.106466  0.153655 -0.947262  0.668394   \n",
       "\n",
       "          7         8         9  ...        92        93        94        95  \\\n",
       "0  0.327529  0.117682 -1.593977  ... -0.072056 -0.268620 -0.053895 -0.048745   \n",
       "1  0.805947  0.591644 -0.986363  ... -0.077166  0.012863  0.031363 -0.117702   \n",
       "2  0.279862  0.330125 -0.163722  ... -0.157583 -0.222906 -0.130571 -0.098860   \n",
       "3  0.650500  0.270365  0.321617  ... -0.035214 -0.184946 -0.062259  0.051432   \n",
       "4  0.792005  0.932680  0.593944  ... -0.042797  0.073619 -0.073277 -0.097418   \n",
       "\n",
       "         96        97        98        99  Subject  Activity  \n",
       "0 -0.039302  0.315779  0.175283 -0.130846        2  STANDING  \n",
       "1  0.069089  0.080349  0.131867 -0.269273        2  STANDING  \n",
       "2  0.117988  0.104057 -0.048039 -0.024905        2  STANDING  \n",
       "3  0.116112  0.125382 -0.053774  0.100407        2  STANDING  \n",
       "4 -0.050722 -0.042751 -0.067358 -0.073441        2  STANDING  \n",
       "\n",
       "[5 rows x 102 columns]"
      ]
     },
     "execution_count": 12,
     "metadata": {},
     "output_type": "execute_result"
    }
   ],
   "source": [
    "df_test_red['Subject']=df_test['subject']\n",
    "df_test_red['Activity']=df_test['Activity']\n",
    "df_test_red.head()"
   ]
  },
  {
   "cell_type": "code",
   "execution_count": 13,
   "metadata": {},
   "outputs": [
    {
     "data": {
      "text/plain": [
       "(2947, 102)"
      ]
     },
     "execution_count": 13,
     "metadata": {},
     "output_type": "execute_result"
    }
   ],
   "source": [
    "df_test_red.shape"
   ]
  },
  {
   "cell_type": "code",
   "execution_count": 14,
   "metadata": {},
   "outputs": [
    {
     "data": {
      "text/plain": [
       "(2947,)"
      ]
     },
     "execution_count": 14,
     "metadata": {},
     "output_type": "execute_result"
    }
   ],
   "source": [
    "labels_true=[]\n",
    "for i in range(len(df_test_red)):\n",
    "    if (df_test_red['Activity'].iloc[i]=='STANDING'):\n",
    "        labels_true.append(0)\n",
    "    if (df_test_red['Activity'].iloc[i]=='SITTING'):\n",
    "        labels_true.append(1)\n",
    "    if (df_test_red['Activity'].iloc[i]=='LAYING'):\n",
    "        labels_true.append(2)   \n",
    "    if (df_test_red['Activity'].iloc[i]=='WALKING'):\n",
    "        labels_true.append(3) \n",
    "    if (df_test_red['Activity'].iloc[i]=='WALKING_UPSTAIRS'):\n",
    "        labels_true.append(4) \n",
    "    if (df_test_red['Activity'].iloc[i]=='WALKING_DOWNSTAIRS'):\n",
    "        labels_true.append(5) \n",
    "labels_true=np.array(labels_true)           \n",
    "labels_true.shape"
   ]
  },
  {
   "cell_type": "code",
   "execution_count": 15,
   "metadata": {},
   "outputs": [],
   "source": [
    "def HMM_F1score(N,M,labels_true):\n",
    "    \n",
    "    hmm_stand=hmm.GMMHMM(n_components=N,n_mix=M,covariance_type='diag')\n",
    "    hmm_sit=hmm.GMMHMM(n_components=N,n_mix=M,covariance_type='diag')\n",
    "    hmm_lay=hmm.GMMHMM(n_components=N,n_mix=M,covariance_type='diag')\n",
    "    hmm_walk=hmm.GMMHMM(n_components=N,n_mix=M,covariance_type='diag')\n",
    "    hmm_walk_d=hmm.GMMHMM(n_components=N,n_mix=M,covariance_type='diag')\n",
    "    hmm_walk_u=hmm.GMMHMM(n_components=N,n_mix=M,covariance_type='diag')\n",
    "\n",
    "    hmm_stand.fit(df_train_red_STAND.iloc[:,0:100].values)\n",
    "    hmm_sit.fit(df_train_red_SIT.iloc[:,0:100].values)\n",
    "    hmm_lay.fit(df_train_red_LAY.iloc[:,0:100].values)\n",
    "    hmm_walk.fit(df_train_red_WALK.iloc[:,0:100].values)\n",
    "    hmm_walk_d.fit(df_train_red_WALK_d.iloc[:,0:100].values)\n",
    "    hmm_walk_u.fit(df_train_red_WALK_u.iloc[:,0:100].values)\n",
    "\n",
    "  \n",
    "    labels_predict = []\n",
    "    for i in range(len(df_test_red)):\n",
    "        log_likelihood_value = np.array([hmm_stand.score(df_test_red.iloc[i,0:100].values.reshape((1,100))),hmm_sit.score(df_test_red.iloc[i,0:100].values.reshape((1,100))),hmm_lay.score(df_test_red.iloc[i,0:100].values.reshape((1,100))),hmm_walk.score(df_test_red.iloc[i,0:100].values.reshape((1,100))),hmm_walk_d.score(df_test_red.iloc[i,0:100].values.reshape((1,100))),hmm_walk_u.score(df_test_red.iloc[i,0:100].values.reshape((1,100)))])\n",
    "        labels_predict.append(np.argmax(log_likelihood_value))    \n",
    "    labels_predict = np.array(labels_predict)  \n",
    "\n",
    "    F1 = f1_score(labels_true,labels_predict,average='micro')\n",
    "    acc = accuracy_score(labels_true,labels_predict)\n",
    "    return F1,acc"
   ]
  },
  {
   "cell_type": "code",
   "execution_count": 16,
   "metadata": {},
   "outputs": [
    {
     "data": {
      "text/plain": [
       "array([ 1,  2,  3,  4,  5,  6,  7,  8,  9, 10, 11, 12, 13, 14, 15, 16, 17,\n",
       "       18, 19, 20, 21, 22, 23, 24, 25, 26, 27, 28, 29, 30, 31, 32, 33, 34,\n",
       "       35])"
      ]
     },
     "execution_count": 16,
     "metadata": {},
     "output_type": "execute_result"
    }
   ],
   "source": [
    "states=np.arange(1,36,1)\n",
    "states"
   ]
  },
  {
   "cell_type": "code",
   "execution_count": 17,
   "metadata": {},
   "outputs": [
    {
     "name": "stdout",
     "output_type": "stream",
     "text": [
      "HMM has been trained for num_states= 1\n",
      "HMM has been trained for num_states= 2\n",
      "HMM has been trained for num_states= 3\n",
      "HMM has been trained for num_states= 4\n",
      "HMM has been trained for num_states= 5\n",
      "HMM has been trained for num_states= 6\n",
      "HMM has been trained for num_states= 7\n",
      "HMM has been trained for num_states= 8\n",
      "HMM has been trained for num_states= 9\n",
      "HMM has been trained for num_states= 10\n",
      "HMM has been trained for num_states= 11\n",
      "HMM has been trained for num_states= 12\n",
      "HMM has been trained for num_states= 13\n",
      "HMM has been trained for num_states= 14\n",
      "HMM has been trained for num_states= 15\n",
      "HMM has been trained for num_states= 16\n",
      "HMM has been trained for num_states= 17\n",
      "HMM has been trained for num_states= 18\n",
      "HMM has been trained for num_states= 19\n",
      "HMM has been trained for num_states= 20\n",
      "HMM has been trained for num_states= 21\n",
      "HMM has been trained for num_states= 22\n",
      "HMM has been trained for num_states= 23\n",
      "HMM has been trained for num_states= 24\n",
      "HMM has been trained for num_states= 25\n",
      "HMM has been trained for num_states= 26\n",
      "HMM has been trained for num_states= 27\n",
      "HMM has been trained for num_states= 28\n",
      "HMM has been trained for num_states= 29\n",
      "HMM has been trained for num_states= 30\n",
      "HMM has been trained for num_states= 31\n",
      "HMM has been trained for num_states= 32\n",
      "HMM has been trained for num_states= 33\n",
      "HMM has been trained for num_states= 34\n",
      "HMM has been trained for num_states= 35\n"
     ]
    },
    {
     "data": {
      "image/png": "[encoded data removed]",
      "text/plain": [
       "<Figure size 432x288 with 2 Axes>"
      ]
     },
     "metadata": {
      "needs_background": "light"
     },
     "output_type": "display_data"
    }
   ],
   "source": [
    "F1_value_states = []\n",
    "acc_value_states = []\n",
    "for i in states:\n",
    "    print(\"HMM has been trained for num_states= {}\".format(i))\n",
    "    f1,acc = HMM_F1score(i,1,labels_true)\n",
    "    F1_value_states.append(f1)\n",
    "    acc_value_states.append(acc)\n",
    "fig,ax = plt.subplots(2,1)\n",
    "\n",
    "ax[0].plot(F1_value_states)\n",
    "ax[1].plot(acc_value_states)\n",
    "\n",
    "plt.show()"
   ]
  },
  {
   "cell_type": "code",
   "execution_count": 18,
   "metadata": {},
   "outputs": [
    {
     "data": {
      "image/png": "[encoded data removed]",
      "text/plain": [
       "<Figure size 432x288 with 2 Axes>"
      ]
     },
     "metadata": {
      "needs_background": "light"
     },
     "output_type": "display_data"
    }
   ],
   "source": [
    "f_test = []\n",
    "acc_test = []\n",
    "\n",
    "for i in range(1,6):\n",
    "    f1,acc1 = HMM_F1score(3,i,labels_true)\n",
    "    f_test.append(f1)\n",
    "    acc_test.append(acc1)\n",
    "    \n",
    "fig,ax = plt.subplots(2,1)\n",
    "\n",
    "ax[0].plot(f_test)\n",
    "ax[1].plot(acc_test)\n",
    "\n",
    "plt.show()"
   ]
  },
  {
   "cell_type": "code",
   "execution_count": 19,
   "metadata": {},
   "outputs": [
    {
     "name": "stdout",
     "output_type": "stream",
     "text": [
      "0.5269765863590091\n",
      "0.5269765863590091\n"
     ]
    }
   ],
   "source": [
    "f1_val,acc_val = HMM_F1score(3,8,labels_true)\n",
    "print(f1_val)\n",
    "print(acc_val)"
   ]
  },
  {
   "cell_type": "code",
   "execution_count": null,
   "metadata": {},
   "outputs": [],
   "source": []
  }
 ],
 "metadata": {
  "kernelspec": {
   "display_name": "Python 3",
   "language": "python",
   "name": "python3"
  },
  "language_info": {
   "codemirror_mode": {
    "name": "ipython",
    "version": 3
   },
   "file_extension": ".py",
   "mimetype": "text/x-python",
   "name": "python",
   "nbconvert_exporter": "python",
   "pygments_lexer": "ipython3",
   "version": "3.6.10"
  }
 },
 "nbformat": 4,
 "nbformat_minor": 4
}
